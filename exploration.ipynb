{
 "cells": [
  {
   "cell_type": "markdown",
   "id": "509c2724",
   "metadata": {},
   "source": [
    "# Exploration de la fonction mesureThermicite\n",
    "\n",
    "Ce notebook permet de tester et d'explorer la fonction principale du projet."
   ]
  },
  {
   "cell_type": "code",
   "execution_count": null,
   "id": "62df24c3",
   "metadata": {},
   "outputs": [],
   "source": [
    "# Import des librairies\n",
    "import pandas as pd\n",
    "import numpy as np\n"
   ]
  },
  {
   "cell_type": "code",
   "execution_count": null,
   "id": "210f3fcd",
   "metadata": {},
   "outputs": [],
   "source": [
    "# Import de la fonction depuis main.py\n",
    "from main import mesureThermicite"
   ]
  },
  {
   "cell_type": "markdown",
   "id": "2a0c7e8c",
   "metadata": {},
   "source": [
    "## Exemple d'utilisation avec un fichier réel"
   ]
  },
  {
   "cell_type": "code",
   "execution_count": null,
   "id": "8c7070bf",
   "metadata": {},
   "outputs": [],
   "source": [
    "# Remplacez par le nom de votre fichier CSV\n",
    "resultat = mesureThermicite(\"fichierSpectrometre.csv\")\n",
    "print(\"Résultat:\", resultat)"
   ]
  },
  {
   "cell_type": "markdown",
   "id": "8f20a108",
   "metadata": {},
   "source": [
    "## Exemple avec des données simulées"
   ]
  },
  {
   "cell_type": "code",
   "execution_count": null,
   "id": "d793e8df",
   "metadata": {},
   "outputs": [],
   "source": [
    "# Création d'un DataFrame d'exemple\n",
    "df_exemple = pd.DataFrame({\n",
    "    \"nombre d'onde\": np.linspace(770, 1430, 10),\n",
    "    \"transmission\": np.random.uniform(80, 100, 10)\n",
    "})\n",
    "\n",
    "# Sauvegarde dans un fichier temporaire\n",
    "df_exemple.to_csv(\"exemple.csv\", sep=\";\", index=False, header=False)\n",
    "\n",
    "# Test de la fonction\n",
    "mesureThermicite(\"exemple.csv\")"
   ]
  }
 ],
 "metadata": {
  "kernelspec": {
   "display_name": "env",
   "language": "python",
   "name": "python3"
  },
  "language_info": {
   "codemirror_mode": {
    "name": "ipython",
    "version": 3
   },
   "file_extension": ".py",
   "mimetype": "text/x-python",
   "name": "python",
   "nbconvert_exporter": "python",
   "pygments_lexer": "ipython3",
   "version": "3.12.3"
  }
 },
 "nbformat": 4,
 "nbformat_minor": 5
}
